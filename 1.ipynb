{
 "cells": [
  {
   "cell_type": "markdown",
   "metadata": {},
   "source": [
    "# Part 1"
   ]
  },
  {
   "cell_type": "code",
   "execution_count": 21,
   "metadata": {},
   "outputs": [],
   "source": [
    "infname = \"in.txt\"#\"test.txt\""
   ]
  },
  {
   "cell_type": "code",
   "execution_count": 11,
   "metadata": {},
   "outputs": [],
   "source": [
    "def numericOnly(s):\n",
    "    return [x for x in s if x.isnumeric()]"
   ]
  },
  {
   "cell_type": "code",
   "execution_count": 12,
   "metadata": {},
   "outputs": [
    {
     "name": "stdout",
     "output_type": "stream",
     "text": [
      "55834\n"
     ]
    }
   ],
   "source": [
    "with open(infname,\"r\") as infile:\n",
    "    summ = 0\n",
    "    for line in infile:\n",
    "        #print(numericOnly(line))\n",
    "        numLine = numericOnly(line)\n",
    "        summ += int(numLine[0])*10 + int(numLine[-1])\n",
    "    print(summ)\n",
    "        "
   ]
  },
  {
   "cell_type": "markdown",
   "metadata": {},
   "source": [
    "# Part 2"
   ]
  },
  {
   "cell_type": "code",
   "execution_count": 13,
   "metadata": {},
   "outputs": [],
   "source": [
    "infname = \"test2.txt\""
   ]
  },
  {
   "cell_type": "code",
   "execution_count": 14,
   "metadata": {},
   "outputs": [],
   "source": [
    "digits = [\"one\",\"two\",\"three\",\"four\",\"five\",\"six\",\"seven\",\"eight\",\"nine\"]"
   ]
  },
  {
   "cell_type": "code",
   "execution_count": 22,
   "metadata": {},
   "outputs": [
    {
     "name": "stdout",
     "output_type": "stream",
     "text": [
      "53221\n"
     ]
    }
   ],
   "source": [
    "with open(infname,\"r\") as infile:\n",
    "    summ = 0\n",
    "    for line in infile:\n",
    "        first = 0\n",
    "        firstIndex = len(line)\n",
    "        for i in range(len(digits)):\n",
    "            ans = line.find(digits[i])\n",
    "            if ans!=-1 and ans<firstIndex:\n",
    "                firstIndex = ans\n",
    "                first = i+1\n",
    "        #print(firstIndex,first)\n",
    "        #Check if I have a numeric first\n",
    "        for i in range(firstIndex):\n",
    "            if line[i].isnumeric():\n",
    "                first = int(line[i])\n",
    "                break\n",
    "        last = 0\n",
    "        lastIndex = -1\n",
    "        for i in range(len(digits)):\n",
    "            ans = line.rfind(digits[i])\n",
    "            if ans!=-1 and ans>lastIndex:\n",
    "                lastIndex = ans\n",
    "                last = i+1\n",
    "        #print(firstIndex,first)\n",
    "        #Check if I have a numeric first\n",
    "        for i in range(len(line)-1,lastIndex,-1):\n",
    "            if line[i].isnumeric():\n",
    "                last = int(line[i])\n",
    "                break\n",
    "        #print(\"first:\",first,\"last:\",last,\"combined:\",first*10+last)\n",
    "        summ += first*10+last\n",
    "    print(summ)\n",
    "                \n",
    "        "
   ]
  },
  {
   "cell_type": "code",
   "execution_count": null,
   "metadata": {},
   "outputs": [],
   "source": []
  }
 ],
 "metadata": {
  "kernelspec": {
   "display_name": "Python 3",
   "language": "python",
   "name": "python3"
  },
  "language_info": {
   "codemirror_mode": {
    "name": "ipython",
    "version": 3
   },
   "file_extension": ".py",
   "mimetype": "text/x-python",
   "name": "python",
   "nbconvert_exporter": "python",
   "pygments_lexer": "ipython3",
   "version": "3.7.4"
  }
 },
 "nbformat": 4,
 "nbformat_minor": 4
}
